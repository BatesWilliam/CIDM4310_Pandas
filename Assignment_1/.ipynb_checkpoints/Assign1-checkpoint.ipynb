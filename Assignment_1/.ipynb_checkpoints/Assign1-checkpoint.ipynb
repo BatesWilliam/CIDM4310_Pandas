{
 "cells": [
  {
   "cell_type": "markdown",
   "id": "d6b87169-f3ee-48e2-80c8-33b0b1d24c46",
   "metadata": {},
   "source": [
    "# Thought Exercises\n",
    "1. I have gained some general understanding of navigating around JupyterLab, and have successfully installed the required additional pieces of software as requested by the materials.\n",
    "2. We cannot say that this data is not normally distributed as we have not been able to test the actual data for it's normality.\n",
    "3. If we work with data that has outliers to it's dataset, it would be a better idea for the median to be utilized for the center. This is to account for the large area outliers might find themselves in outside the other data in the set.\n",
    "\n",
    "## Exercise 4: Generating the Data"
   ]
  },
  {
   "cell_type": "code",
   "execution_count": 1,
   "id": "a383d282-17bc-409f-8816-d9478720ba59",
   "metadata": {},
   "outputs": [],
   "source": [
    "import random\n",
    "\n",
    "random.seed(0)\n",
    "salaries = [round(random.random()*1000000, -3) for _ in range(100)]"
   ]
  },
  {
   "cell_type": "markdown",
   "id": "3ac2134c-e6af-419c-8104-fd75c8b12652",
   "metadata": {},
   "source": [
    "## Exercise 5: Calculating statistics & verifying\n",
    "### Mean"
   ]
  },
  {
   "cell_type": "code",
   "execution_count": 2,
   "id": "fcfe24c0-9f2d-4877-9f2e-0fad84859514",
   "metadata": {},
   "outputs": [
    {
     "data": {
      "text/plain": [
       "True"
      ]
     },
     "execution_count": 2,
     "metadata": {},
     "output_type": "execute_result"
    }
   ],
   "source": [
    "from statistics import mean\n",
    "\n",
    "sum(salaries) / len(salaries) == mean(salaries)"
   ]
  },
  {
   "cell_type": "markdown",
   "id": "84eab0ce-a072-4db6-ab6a-7cb91d476db6",
   "metadata": {},
   "source": [
    "### Median\n",
    "##### Function to calculate our median:"
   ]
  },
  {
   "cell_type": "code",
   "execution_count": 3,
   "id": "64539611-a024-4160-a446-e2e5879358f2",
   "metadata": {},
   "outputs": [],
   "source": [
    "import math\n",
    "\n",
    "def find_median(x):\n",
    "    x.sort()\n",
    "    midpoint = (len(x) + 1) / 2 - 1 # Indexes start at 0, not 1\n",
    "    if len(x) % 2:\n",
    "        return x[int(midpoint)]\n",
    "    else:\n",
    "        return (x[math.floor(midpoint)] + x[math.ceil(midpoint)]) / 2"
   ]
  },
  {
   "cell_type": "markdown",
   "id": "c7de7e32-feb0-4ded-9b99-49626d847d8e",
   "metadata": {},
   "source": [
    "##### Check if output matches the expectation:"
   ]
  },
  {
   "cell_type": "code",
   "execution_count": 4,
   "id": "2ad0b427-8fa1-4f47-aec6-f71d8b8478e1",
   "metadata": {},
   "outputs": [
    {
     "data": {
      "text/plain": [
       "True"
      ]
     },
     "execution_count": 4,
     "metadata": {},
     "output_type": "execute_result"
    }
   ],
   "source": [
    "from statistics import median\n",
    "\n",
    "find_median(salaries) == median(salaries)"
   ]
  },
  {
   "cell_type": "markdown",
   "id": "1485ae2d-38ab-4953-ae7e-3e552a54c0f4",
   "metadata": {},
   "source": [
    "### Mode"
   ]
  },
  {
   "cell_type": "code",
   "execution_count": 5,
   "id": "b57df153-3ed9-454e-ae21-bdc68b66f90f",
   "metadata": {},
   "outputs": [
    {
     "data": {
      "text/plain": [
       "True"
      ]
     },
     "execution_count": 5,
     "metadata": {},
     "output_type": "execute_result"
    }
   ],
   "source": [
    "from statistics import mode\n",
    "from collections import Counter\n",
    "\n",
    "Counter(salaries).most_common(1)[0][0] == mode(salaries)"
   ]
  },
  {
   "cell_type": "markdown",
   "id": "f731c99e-fce1-4312-a791-83751678e028",
   "metadata": {},
   "source": [
    "### Sample Variance"
   ]
  },
  {
   "cell_type": "code",
   "execution_count": 6,
   "id": "0811a9fa-b5b2-4502-a15f-9bebd6746238",
   "metadata": {},
   "outputs": [
    {
     "data": {
      "text/plain": [
       "True"
      ]
     },
     "execution_count": 6,
     "metadata": {},
     "output_type": "execute_result"
    }
   ],
   "source": [
    "from statistics import variance\n",
    "\n",
    "sum([(x - sum(salaries) / len(salaries))**2 for x in salaries]) / (len(salaries) -1) == variance(salaries)"
   ]
  },
  {
   "cell_type": "markdown",
   "id": "b0eb8162-edef-42b7-b0cd-49836d3ed66a",
   "metadata": {},
   "source": [
    "### Sample Standard Deviation"
   ]
  },
  {
   "cell_type": "code",
   "execution_count": 7,
   "id": "f3810a89-137e-44d0-a75d-082913f5280c",
   "metadata": {},
   "outputs": [
    {
     "data": {
      "text/plain": [
       "True"
      ]
     },
     "execution_count": 7,
     "metadata": {},
     "output_type": "execute_result"
    }
   ],
   "source": [
    "from statistics import stdev\n",
    "import math\n",
    "\n",
    "math.sqrt(sum([(x - sum(salaries) / len(salaries))**2 for x in salaries]) / (len(salaries) - 1)) == stdev(salaries)"
   ]
  },
  {
   "cell_type": "markdown",
   "id": "7be250fc-776d-49a3-aa4a-4721525bb377",
   "metadata": {},
   "source": [
    "## Exercise 6: Calculating More Stats\n",
    "\n",
    "### Range"
   ]
  },
  {
   "cell_type": "code",
   "execution_count": 8,
   "id": "74ee835b-31d4-4dd6-aeed-d20e1bf656a5",
   "metadata": {},
   "outputs": [
    {
     "data": {
      "text/plain": [
       "995000.0"
      ]
     },
     "execution_count": 8,
     "metadata": {},
     "output_type": "execute_result"
    }
   ],
   "source": [
    "max(salaries) - min(salaries)"
   ]
  },
  {
   "cell_type": "markdown",
   "id": "db98e364-7609-426b-a6ef-2fe63da83a79",
   "metadata": {},
   "source": [
    "### Coefficient of Variation"
   ]
  },
  {
   "cell_type": "code",
   "execution_count": 9,
   "id": "2b5685f1-d4e6-448e-b1bf-e819ddc315dc",
   "metadata": {},
   "outputs": [
    {
     "data": {
      "text/plain": [
       "0.45386998894439035"
      ]
     },
     "execution_count": 9,
     "metadata": {},
     "output_type": "execute_result"
    }
   ],
   "source": [
    "from statistics import mean, stdev\n",
    "\n",
    "stdev(salaries) / mean(salaries)"
   ]
  },
  {
   "cell_type": "markdown",
   "id": "e424efff-afc8-4e9e-92fb-b10d12d0b80a",
   "metadata": {
    "tags": []
   },
   "source": [
    "### Interquartile Range\n",
    "\n",
    "##### Function to Calculate a Quantile:"
   ]
  },
  {
   "cell_type": "code",
   "execution_count": 10,
   "id": "7539df9a-7d07-402d-a297-3f71bbd1a32e",
   "metadata": {},
   "outputs": [],
   "source": [
    "import math\n",
    "\n",
    "def quantile(x, pct):\n",
    "    x.sort()\n",
    "    index = (len(x) + 1) * pct - 1\n",
    "    if len(x) % 2:\n",
    "        return x[int(index)]\n",
    "    else:\n",
    "        return (x[math.floor(index)] + x[math.ceil(index)]) / 2"
   ]
  },
  {
   "cell_type": "markdown",
   "id": "cff1c4dc-8cd9-4190-9b82-5f225b2abc48",
   "metadata": {},
   "source": [
    "##### 1st Quantile Calculation Check"
   ]
  },
  {
   "cell_type": "code",
   "execution_count": 11,
   "id": "6fe44d9a-50c0-4e03-99ee-8167c4c6980b",
   "metadata": {},
   "outputs": [
    {
     "data": {
      "text/plain": [
       "True"
      ]
     },
     "execution_count": 11,
     "metadata": {},
     "output_type": "execute_result"
    }
   ],
   "source": [
    "sum([x < quantile(salaries, 0.25) for x in salaries]) / len(salaries) == 0.25"
   ]
  },
  {
   "cell_type": "markdown",
   "id": "a984febe-a0d9-4fa4-93e2-5f2d7eda0cd3",
   "metadata": {},
   "source": [
    "##### 3rd Quantile Calculation Check"
   ]
  },
  {
   "cell_type": "code",
   "execution_count": 12,
   "id": "bd7a61ae-3df9-448b-96c2-7f489d00b03f",
   "metadata": {},
   "outputs": [
    {
     "data": {
      "text/plain": [
       "True"
      ]
     },
     "execution_count": 12,
     "metadata": {},
     "output_type": "execute_result"
    }
   ],
   "source": [
    "sum([x < quantile(salaries, 0.75) for x in salaries]) / len(salaries) == 0.75"
   ]
  },
  {
   "cell_type": "markdown",
   "id": "1b797f17-d584-4012-a839-6f407270d54e",
   "metadata": {},
   "source": [
    "##### IQR Calculation"
   ]
  },
  {
   "cell_type": "code",
   "execution_count": 13,
   "id": "dd42223f-d9f9-4ec4-bc1c-127d6266d8f8",
   "metadata": {},
   "outputs": [
    {
     "data": {
      "text/plain": [
       "417500.0"
      ]
     },
     "execution_count": 13,
     "metadata": {},
     "output_type": "execute_result"
    }
   ],
   "source": [
    "q3, q1 = quantile(salaries, 0.75), quantile(salaries, 0.25)\n",
    "iqr = q3 - q1\n",
    "iqr"
   ]
  },
  {
   "cell_type": "markdown",
   "id": "b8abc457-bc9b-4f2a-9b0c-1df45ec33716",
   "metadata": {},
   "source": [
    "### Quartile Coefficient of Dispersion"
   ]
  },
  {
   "cell_type": "code",
   "execution_count": 14,
   "id": "c8668c9d-3805-4306-8920-bc4722599e50",
   "metadata": {},
   "outputs": [
    {
     "data": {
      "text/plain": [
       "0.3417928776094965"
      ]
     },
     "execution_count": 14,
     "metadata": {},
     "output_type": "execute_result"
    }
   ],
   "source": [
    "iqr / (q1 + q3)"
   ]
  },
  {
   "cell_type": "markdown",
   "id": "50dc408f-8cae-40dc-910e-c0a975d702f6",
   "metadata": {},
   "source": [
    "## Exercise 7: Scaling Data\n",
    "\n",
    "#### Min-Max Scaling"
   ]
  },
  {
   "cell_type": "code",
   "execution_count": 15,
   "id": "ec160bf2-8f6b-4c87-be25-3ad0653ff882",
   "metadata": {},
   "outputs": [
    {
     "data": {
      "text/plain": [
       "[0.0,\n",
       " 0.01306532663316583,\n",
       " 0.07939698492462312,\n",
       " 0.0814070351758794,\n",
       " 0.08944723618090453]"
      ]
     },
     "execution_count": 15,
     "metadata": {},
     "output_type": "execute_result"
    }
   ],
   "source": [
    "min_salary, max_salary = min(salaries), max(salaries)\n",
    "salary_range = max_salary - min_salary\n",
    "\n",
    "min_max_scaled = [(x - min_salary) / salary_range for x in salaries]\n",
    "min_max_scaled[:5]"
   ]
  },
  {
   "cell_type": "markdown",
   "id": "1aa38086-8b63-43af-8892-bc77de896f7e",
   "metadata": {},
   "source": [
    "#### Standardizing"
   ]
  },
  {
   "cell_type": "code",
   "execution_count": 16,
   "id": "263eb6ec-a599-4686-9ad3-a93df0c987f3",
   "metadata": {},
   "outputs": [
    {
     "data": {
      "text/plain": [
       "[-2.199512275430514,\n",
       " -2.150608309943509,\n",
       " -1.9023266390094862,\n",
       " -1.8948029520114855,\n",
       " -1.8647082040194827]"
      ]
     },
     "execution_count": 16,
     "metadata": {},
     "output_type": "execute_result"
    }
   ],
   "source": [
    "from statistics import mean, stdev\n",
    "\n",
    "mean_salary, std_salary = mean(salaries), stdev(salaries)\n",
    "\n",
    "standardized = [(x - mean_salary) / std_salary for x in salaries]\n",
    "standardized[:5]"
   ]
  },
  {
   "cell_type": "markdown",
   "id": "dade800f-be98-4a5e-a068-41cb4e9f533a",
   "metadata": {},
   "source": [
    "## Exercise 8: Calculating Covariance and Correlation\n",
    "\n",
    "#### Covariance"
   ]
  },
  {
   "cell_type": "code",
   "execution_count": 17,
   "id": "102897fc-40ec-451f-9b93-770cfbb18b53",
   "metadata": {},
   "outputs": [
    {
     "data": {
      "text/plain": [
       "array([[0.07137603, 0.26716293],\n",
       "       [0.26716293, 1.        ]])"
      ]
     },
     "execution_count": 17,
     "metadata": {},
     "output_type": "execute_result"
    }
   ],
   "source": [
    "import numpy as np\n",
    "np.cov(min_max_scaled, standardized)"
   ]
  },
  {
   "cell_type": "markdown",
   "id": "b6d5943d-baca-43fa-97bd-f96a8a4fc827",
   "metadata": {},
   "source": [
    "##### NumPy:"
   ]
  },
  {
   "cell_type": "code",
   "execution_count": 18,
   "id": "1d44a687-1d72-4a69-a654-4fb3131798d6",
   "metadata": {},
   "outputs": [
    {
     "data": {
      "text/plain": [
       "0.26449129918250414"
      ]
     },
     "execution_count": 18,
     "metadata": {},
     "output_type": "execute_result"
    }
   ],
   "source": [
    "from statistics import mean\n",
    "\n",
    "running_total = [\n",
    "    (x - mean(min_max_scaled)) * (y - mean(standardized))\n",
    "    for x, y in zip(min_max_scaled, standardized)\n",
    "]\n",
    "\n",
    "cov = mean(running_total)\n",
    "cov"
   ]
  },
  {
   "cell_type": "markdown",
   "id": "db139f60-3eb3-43a3-ac79-f62d4c4f90b0",
   "metadata": {},
   "source": [
    "#### Pearson Correlation Coefficient"
   ]
  },
  {
   "cell_type": "code",
   "execution_count": 19,
   "id": "73662e95-7bb9-4527-8671-9fdbcb6794d7",
   "metadata": {},
   "outputs": [
    {
     "data": {
      "text/plain": [
       "0.9900000000000001"
      ]
     },
     "execution_count": 19,
     "metadata": {},
     "output_type": "execute_result"
    }
   ],
   "source": [
    "from statistics import stdev\n",
    "cov / (stdev(min_max_scaled) * stdev(standardized))"
   ]
  }
 ],
 "metadata": {
  "kernelspec": {
   "display_name": "Python 3",
   "language": "python",
   "name": "python3"
  },
  "language_info": {
   "codemirror_mode": {
    "name": "ipython",
    "version": 3
   },
   "file_extension": ".py",
   "mimetype": "text/x-python",
   "name": "python",
   "nbconvert_exporter": "python",
   "pygments_lexer": "ipython3",
   "version": "3.8.8"
  },
  "toc-showcode": true
 },
 "nbformat": 4,
 "nbformat_minor": 5
}
